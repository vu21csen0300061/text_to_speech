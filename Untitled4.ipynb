{
 "cells": [
  {
   "cell_type": "code",
   "execution_count": 1,
   "id": "1bab4e8c",
   "metadata": {},
   "outputs": [
    {
     "name": "stdout",
     "output_type": "stream",
     "text": [
      "Requirement already satisfied: pyttsx3 in c:\\users\\roshini\\anaconda3\\lib\\site-packages (2.90)\n",
      "Requirement already satisfied: pypiwin32 in c:\\users\\roshini\\anaconda3\\lib\\site-packages (from pyttsx3) (223)\n",
      "Requirement already satisfied: pywin32 in c:\\users\\roshini\\anaconda3\\lib\\site-packages (from pyttsx3) (305.1)\n",
      "Requirement already satisfied: comtypes in c:\\users\\roshini\\anaconda3\\lib\\site-packages (from pyttsx3) (1.2.0)\n",
      "Requirement already satisfied: gtts in c:\\users\\roshini\\anaconda3\\lib\\site-packages (2.3.2)\n",
      "Requirement already satisfied: click<8.2,>=7.1 in c:\\users\\roshini\\anaconda3\\lib\\site-packages (from gtts) (8.0.4)\n",
      "Requirement already satisfied: requests<3,>=2.27 in c:\\users\\roshini\\anaconda3\\lib\\site-packages (from gtts) (2.29.0)\n",
      "Requirement already satisfied: colorama in c:\\users\\roshini\\anaconda3\\lib\\site-packages (from click<8.2,>=7.1->gtts) (0.4.6)\n",
      "Requirement already satisfied: urllib3<1.27,>=1.21.1 in c:\\users\\roshini\\anaconda3\\lib\\site-packages (from requests<3,>=2.27->gtts) (1.26.16)\n",
      "Requirement already satisfied: charset-normalizer<4,>=2 in c:\\users\\roshini\\anaconda3\\lib\\site-packages (from requests<3,>=2.27->gtts) (2.0.4)\n",
      "Requirement already satisfied: certifi>=2017.4.17 in c:\\users\\roshini\\anaconda3\\lib\\site-packages (from requests<3,>=2.27->gtts) (2023.7.22)\n",
      "Requirement already satisfied: idna<4,>=2.5 in c:\\users\\roshini\\anaconda3\\lib\\site-packages (from requests<3,>=2.27->gtts) (3.4)\n",
      "Requirement already satisfied: playsound in c:\\users\\roshini\\anaconda3\\lib\\site-packages (1.3.0)\n"
     ]
    }
   ],
   "source": [
    "!pip install pyttsx3\n",
    "!pip install gtts\n",
    "!pip install playsound"
   ]
  },
  {
   "cell_type": "code",
   "execution_count": 2,
   "id": "71eb1fa2",
   "metadata": {},
   "outputs": [],
   "source": [
    "import tkinter as tk\n",
    "from tkinter import *\n",
    "from tkinter import filedialog\n",
    "from tkinter.ttk import Combobox\n",
    "import pyttsx3\n",
    "import os\n",
    "from gtts import gTTS\n",
    "from playsound import playsound"
   ]
  },
  {
   "cell_type": "code",
   "execution_count": 3,
   "id": "b030b510",
   "metadata": {},
   "outputs": [],
   "source": [
    "root=tk.Tk()\n",
    "root.title(\"TEXT TO SPEECH CONVERTER\")\n",
    "root.geometry(\"1000x580+200+80\")\n",
    "root.resizable(False,False)\n",
    "root.configure(bg=\"#F7AC40\")\n",
    "logo=PhotoImage(file=\"C:/Users/Roshini/OneDrive/Desktop/attachment_39973755.png\")\n",
    "Label(root,image=logo,bg=\"#F7AC40\").place(x=880,y=439)\n",
    "#root.mainloop()\n"
   ]
  },
  {
   "cell_type": "code",
   "execution_count": 4,
   "id": "d1ffe28a",
   "metadata": {},
   "outputs": [],
   "source": [
    "tts=pyttsx3.init()\n",
    "def speaknow():\n",
    "    text=text_box.get(1.0,END)\n",
    "    gender=gender_box.get()\n",
    "    speed=speed_box.get()\n",
    "    voices=tts.getProperty('voices')\n",
    "    def setvoice():\n",
    "        if(gender=='Male'):\n",
    "            tts.setProperty('voice',voices[0].id)\n",
    "            tts.say(text)\n",
    "            tts.runAndWait()\n",
    "        else:\n",
    "            tts.setProperty('voice',voices[1].id)\n",
    "            tts.say(text)\n",
    "            tts.runAndWait()\n",
    "    if(text):\n",
    "        if(speed=='Fast'):\n",
    "            tts.setProperty('rate',250)\n",
    "            setvoice()\n",
    "        elif(speed=='Medium'):\n",
    "            tts.setProperty('rate',150)\n",
    "            setvoice()\n",
    "        else:\n",
    "            tts.setProperty('rate',60)\n",
    "            setvoice()\n",
    "            "
   ]
  },
  {
   "cell_type": "code",
   "execution_count": 5,
   "id": "7b1c0ffc",
   "metadata": {},
   "outputs": [
    {
     "ename": "TclError",
     "evalue": "couldn't recognize data in image file \"C:/Users/Roshini/Downloads/th (2).jpeg\"",
     "output_type": "error",
     "traceback": [
      "\u001b[1;31m---------------------------------------------------------------------------\u001b[0m",
      "\u001b[1;31mTclError\u001b[0m                                  Traceback (most recent call last)",
      "Cell \u001b[1;32mIn[5], line 3\u001b[0m\n\u001b[0;32m      1\u001b[0m a\u001b[38;5;241m=\u001b[39mFrame(root,bg\u001b[38;5;241m=\u001b[39m\u001b[38;5;124m'\u001b[39m\u001b[38;5;124m#14A7DD\u001b[39m\u001b[38;5;124m'\u001b[39m,width\u001b[38;5;241m=\u001b[39m\u001b[38;5;241m1200\u001b[39m,height\u001b[38;5;241m=\u001b[39m\u001b[38;5;241m130\u001b[39m)\n\u001b[0;32m      2\u001b[0m a\u001b[38;5;241m.\u001b[39mplace(x\u001b[38;5;241m=\u001b[39m\u001b[38;5;241m0\u001b[39m,y\u001b[38;5;241m=\u001b[39m\u001b[38;5;241m0\u001b[39m)\n\u001b[1;32m----> 3\u001b[0m picture\u001b[38;5;241m=\u001b[39m\u001b[43mPhotoImage\u001b[49m\u001b[43m(\u001b[49m\u001b[43mfile\u001b[49m\u001b[38;5;241;43m=\u001b[39;49m\u001b[38;5;124;43m\"\u001b[39;49m\u001b[38;5;124;43mC:/Users/Roshini/Downloads/th (2).jpeg\u001b[39;49m\u001b[38;5;124;43m\"\u001b[39;49m\u001b[43m)\u001b[49m\n\u001b[0;32m      4\u001b[0m Label(a,image\u001b[38;5;241m=\u001b[39mpicture,bg\u001b[38;5;241m=\u001b[39m\u001b[38;5;124m'\u001b[39m\u001b[38;5;124m#14A7DD\u001b[39m\u001b[38;5;124m'\u001b[39m)\u001b[38;5;241m.\u001b[39mplace(x\u001b[38;5;241m=\u001b[39m\u001b[38;5;241m150\u001b[39m,y\u001b[38;5;241m=\u001b[39m\u001b[38;5;241m30\u001b[39m)\n",
      "File \u001b[1;32m~\\anaconda3\\lib\\tkinter\\__init__.py:4103\u001b[0m, in \u001b[0;36mPhotoImage.__init__\u001b[1;34m(self, name, cnf, master, **kw)\u001b[0m\n\u001b[0;32m   4098\u001b[0m \u001b[38;5;28;01mdef\u001b[39;00m \u001b[38;5;21m__init__\u001b[39m(\u001b[38;5;28mself\u001b[39m, name\u001b[38;5;241m=\u001b[39m\u001b[38;5;28;01mNone\u001b[39;00m, cnf\u001b[38;5;241m=\u001b[39m{}, master\u001b[38;5;241m=\u001b[39m\u001b[38;5;28;01mNone\u001b[39;00m, \u001b[38;5;241m*\u001b[39m\u001b[38;5;241m*\u001b[39mkw):\n\u001b[0;32m   4099\u001b[0m \u001b[38;5;250m    \u001b[39m\u001b[38;5;124;03m\"\"\"Create an image with NAME.\u001b[39;00m\n\u001b[0;32m   4100\u001b[0m \n\u001b[0;32m   4101\u001b[0m \u001b[38;5;124;03m    Valid resource names: data, format, file, gamma, height, palette,\u001b[39;00m\n\u001b[0;32m   4102\u001b[0m \u001b[38;5;124;03m    width.\"\"\"\u001b[39;00m\n\u001b[1;32m-> 4103\u001b[0m     Image\u001b[38;5;241m.\u001b[39m\u001b[38;5;21m__init__\u001b[39m(\u001b[38;5;28mself\u001b[39m, \u001b[38;5;124m'\u001b[39m\u001b[38;5;124mphoto\u001b[39m\u001b[38;5;124m'\u001b[39m, name, cnf, master, \u001b[38;5;241m*\u001b[39m\u001b[38;5;241m*\u001b[39mkw)\n",
      "File \u001b[1;32m~\\anaconda3\\lib\\tkinter\\__init__.py:4048\u001b[0m, in \u001b[0;36mImage.__init__\u001b[1;34m(self, imgtype, name, cnf, master, **kw)\u001b[0m\n\u001b[0;32m   4046\u001b[0m         v \u001b[38;5;241m=\u001b[39m \u001b[38;5;28mself\u001b[39m\u001b[38;5;241m.\u001b[39m_register(v)\n\u001b[0;32m   4047\u001b[0m     options \u001b[38;5;241m=\u001b[39m options \u001b[38;5;241m+\u001b[39m (\u001b[38;5;124m'\u001b[39m\u001b[38;5;124m-\u001b[39m\u001b[38;5;124m'\u001b[39m\u001b[38;5;241m+\u001b[39mk, v)\n\u001b[1;32m-> 4048\u001b[0m \u001b[38;5;28;43mself\u001b[39;49m\u001b[38;5;241;43m.\u001b[39;49m\u001b[43mtk\u001b[49m\u001b[38;5;241;43m.\u001b[39;49m\u001b[43mcall\u001b[49m\u001b[43m(\u001b[49m\u001b[43m(\u001b[49m\u001b[38;5;124;43m'\u001b[39;49m\u001b[38;5;124;43mimage\u001b[39;49m\u001b[38;5;124;43m'\u001b[39;49m\u001b[43m,\u001b[49m\u001b[43m \u001b[49m\u001b[38;5;124;43m'\u001b[39;49m\u001b[38;5;124;43mcreate\u001b[39;49m\u001b[38;5;124;43m'\u001b[39;49m\u001b[43m,\u001b[49m\u001b[43m \u001b[49m\u001b[43mimgtype\u001b[49m\u001b[43m,\u001b[49m\u001b[43m \u001b[49m\u001b[43mname\u001b[49m\u001b[43m,\u001b[49m\u001b[43m)\u001b[49m\u001b[43m \u001b[49m\u001b[38;5;241;43m+\u001b[39;49m\u001b[43m \u001b[49m\u001b[43moptions\u001b[49m\u001b[43m)\u001b[49m\n\u001b[0;32m   4049\u001b[0m \u001b[38;5;28mself\u001b[39m\u001b[38;5;241m.\u001b[39mname \u001b[38;5;241m=\u001b[39m name\n",
      "\u001b[1;31mTclError\u001b[0m: couldn't recognize data in image file \"C:/Users/Roshini/Downloads/th (2).jpeg\""
     ]
    }
   ],
   "source": [
    "a=Frame(root,bg='#14A7DD',width=1200,height=130)\n",
    "a.place(x=0,y=0)\n",
    "picture=PhotoImage(file=\"C:/Users/Roshini/Downloads/th (2).jpeg\")\n",
    "Label(a,image=picture,bg='#14A7DD').place(x=150,y=30)\n",
    "#root.mainloop()"
   ]
  },
  {
   "cell_type": "code",
   "execution_count": 6,
   "id": "33de1bc2",
   "metadata": {},
   "outputs": [],
   "source": [
    "Label(a,text='TEXT TO SPEECH CONVERTER',font='TimesNewroman 40 bold',bg='#14A7DD',fg='white').place(x=150,y=20)"
   ]
  },
  {
   "cell_type": "code",
   "execution_count": 7,
   "id": "83b7cfe0",
   "metadata": {},
   "outputs": [],
   "source": [
    "text_box=Text(root,font='calibri 20',bg='white',relief=GROOVE,wrap=WORD,bd=0)\n",
    "text_box.place(x=30,y=150,width=940,height=180)\n",
    "#root.mainloop()"
   ]
  },
  {
   "cell_type": "code",
   "execution_count": 8,
   "id": "cc22d010",
   "metadata": {},
   "outputs": [],
   "source": [
    "gender_box=Combobox(root,values=['Male','Female'],font='Robote 12',state='r',width=12)\n",
    "gender_box.place(x=340,y=400)\n",
    "gender_box.set('Male')"
   ]
  },
  {
   "cell_type": "code",
   "execution_count": 9,
   "id": "f7e76abb",
   "metadata": {},
   "outputs": [],
   "source": [
    "speed_box=Combobox(root,values=['Fast',\"Medium\",'Slow'],font='Robote 12',state='r',width=12)\n",
    "speed_box.place(x=540,y=400)\n",
    "speed_box.set('Medium')"
   ]
  },
  {
   "cell_type": "code",
   "execution_count": 10,
   "id": "39b4193c",
   "metadata": {},
   "outputs": [],
   "source": [
    "Label(root,text=\"Select Voice\",font='TimesNewroman 15 bold',bg='#F7AC40',fg='white').place(x=340,y=370)\n",
    "Label(root,text=\"Select Speed\",font='TimesNewroman 15 bold',bg='#F7AC40',fg='white').place(x=540,y=370)\n",
    "#root.mainloop()"
   ]
  },
  {
   "cell_type": "code",
   "execution_count": 11,
   "id": "9d4ea2b0",
   "metadata": {},
   "outputs": [],
   "source": [
    "#play_button=PhotoImage(file=\"C:/Users/Roshini/Downloads/th (4).jpeg\")\n",
    "play_btn=Button(root,text='PLAY',bg='white',width=13,font='arial 14 bold',borderwidth=1,command=speaknow)\n",
    "play_btn.place(x=435,y=450)\n",
    "root.mainloop()"
   ]
  },
  {
   "cell_type": "code",
   "execution_count": null,
   "id": "3f38a4dd",
   "metadata": {},
   "outputs": [],
   "source": []
  }
 ],
 "metadata": {
  "kernelspec": {
   "display_name": "Python 3 (ipykernel)",
   "language": "python",
   "name": "python3"
  },
  "language_info": {
   "codemirror_mode": {
    "name": "ipython",
    "version": 3
   },
   "file_extension": ".py",
   "mimetype": "text/x-python",
   "name": "python",
   "nbconvert_exporter": "python",
   "pygments_lexer": "ipython3",
   "version": "3.10.9"
  }
 },
 "nbformat": 4,
 "nbformat_minor": 5
}
